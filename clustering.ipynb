{
 "cells": [
  {
   "attachments": {},
   "cell_type": "markdown",
   "metadata": {},
   "source": [
    "<h2>IMPORTS</h2>"
   ]
  },
  {
   "cell_type": "code",
   "execution_count": 1,
   "metadata": {},
   "outputs": [],
   "source": [
    "import numpy as np\n",
    "import seaborn as sns\n",
    "import matplotlib.pylab as plt\n",
    "import sklearn\n",
    "from sklearn.cluster import KMeans\n",
    "from matplotlib.colors import LinearSegmentedColormap\n",
    "\n",
    "pozycje = np.array(np.genfromtxt(\"pozycje.csv\", delimiter=',')) #array containing positions of sources obtained from FieldTrip\n",
    "inside = np.array(np.genfromtxt(\"inside.csv\", delimiter=',')) #array of inside sources labels\n",
    "elecpos = np.array(np.genfromtxt(\"elecpos.csv\", delimiter=',')) #array of electrode positions\n",
    "M = np.array(np.genfromtxt(\"Macierz_przejscia.csv\", delimiter=','))\n",
    "Z1 = np.array(np.genfromtxt(\"Z_1.csv\", delimiter=','))\n",
    "Z2 = np.array(np.genfromtxt(\"Z_2.csv\", delimiter=','))\n",
    "Z3 = np.array(np.genfromtxt(\"Z_3.csv\", delimiter=','))\n",
    "H3 = np.array(np.genfromtxt(\"H_3.csv\", delimiter=','))\n",
    "H2 = np.matmul(Z3, H3)\n",
    "H1 = np.matmul(Z2, H2)\n",
    "Mp = np.matmul(Z1, H1)"
   ]
  },
  {
   "attachments": {},
   "cell_type": "markdown",
   "metadata": {},
   "source": [
    "<h2>Calculations</h2>"
   ]
  },
  {
   "attachments": {},
   "cell_type": "markdown",
   "metadata": {},
   "source": [
    "<h3>Positions of inside sources</h3>"
   ]
  },
  {
   "cell_type": "code",
   "execution_count": null,
   "metadata": {},
   "outputs": [],
   "source": [
    "temp = []\n",
    "for i in range(len(inside)):\n",
    "    if inside[i] == 1:\n",
    "        temp.append(pozycje[i])\n",
    "poz_ins = np.array(temp)"
   ]
  },
  {
   "attachments": {},
   "cell_type": "markdown",
   "metadata": {},
   "source": [
    "<h3>plot sources</h3>"
   ]
  },
  {
   "cell_type": "code",
   "execution_count": null,
   "metadata": {},
   "outputs": [],
   "source": [
    "x = poz_ins[:,0]\n",
    "y = poz_ins[:,1]\n",
    "z = poz_ins[:,2]\n",
    "\n",
    "fig = plt.figure()\n",
    "ax = fig.add_subplot(projection='3d')\n",
    "ax.view_init(elev=10, azim=10)\n",
    "\n",
    "plt.xlabel(\"X\")\n",
    "plt.ylabel(\"Y\")\n",
    "ax.set_zlabel(\"Z\")\n",
    "\n",
    "ax.set_xlim(-0.1,0.1)\n",
    "ax.set_ylim(-0.1,0.1)\n",
    "ax.set_zlim(-0.06,0.1)\n",
    "\n",
    "#ax.scatter(x, y, z, marker='.', color=(0.5,0.5,0.5))\n",
    "\n",
    "v=1\n",
    "r = 0\n",
    "for xi,yi,zi in zip(x,y,z):\n",
    "    ax.scatter(xi, yi, zi, marker='${}$'.format(v), color=(r,r,r))\n",
    "    r+= 0.0007\n",
    "    \n",
    "#plt.savefig(\"myImage.png\", format=\"png\", dpi=1200)\n",
    "plt.show()"
   ]
  },
  {
   "attachments": {},
   "cell_type": "markdown",
   "metadata": {},
   "source": [
    "<h3>plot electrodes</h3>"
   ]
  },
  {
   "cell_type": "code",
   "execution_count": null,
   "metadata": {},
   "outputs": [],
   "source": [
    "xe = poz_ins[:,0]\n",
    "ye = poz_ins[:,1]\n",
    "ze = poz_ins[:,2]\n",
    "\n",
    "fig = plt.figure()\n",
    "ax = fig.add_subplot()\n",
    "plt.xlabel(\"X\")\n",
    "plt.ylabel(\"Y\")\n",
    "ax.set_xlim(-0.12,0.15)\n",
    "ax.set_ylim(-0.12,0.15)\n",
    "\n",
    "v=1\n",
    "for xi,yi,zi in zip(xe,ye,ze):\n",
    "    ax.scatter(yi, zi, marker='${}$'.format(v), color=(0.5,0.5,0.5))\n",
    "    v+=1\n",
    "#plt.savefig(\"myImage.png\", format=\"png\", dpi=1200)\n",
    "plt.show()"
   ]
  },
  {
   "attachments": {},
   "cell_type": "markdown",
   "metadata": {},
   "source": [
    "<h2>clustering</h2>"
   ]
  },
  {
   "attachments": {},
   "cell_type": "markdown",
   "metadata": {},
   "source": [
    "<p>preparation of data considering every element of M as a datapoint</p>"
   ]
  },
  {
   "cell_type": "code",
   "execution_count": null,
   "metadata": {},
   "outputs": [],
   "source": [
    "Hvec = M.flatten()\n",
    "Hvec_norm = np.linalg.norm(Hvec)\n",
    "Hvec /= Hvec_norm\n",
    "Hl = []\n",
    "for i in Hvec:\n",
    "  Hl.append([1,i])\n",
    "Hl = np.array(Hl)\n",
    "\n",
    "c = 4\n",
    "kmeans = KMeans(n_clusters=c)"
   ]
  },
  {
   "attachments": {},
   "cell_type": "markdown",
   "metadata": {},
   "source": [
    "<p>Preparation of data considering an electric potential vector (along 3 axies) of each source as a datapoint</p>"
   ]
  },
  {
   "cell_type": "code",
   "execution_count": null,
   "metadata": {},
   "outputs": [],
   "source": [
    "mt = M\n",
    "Hl = np.reshape(mt, (-1, 3))\n",
    "print(np.shape(Hl))\n",
    "\n",
    "c = 4\n",
    "kmeans = KMeans(n_clusters=c)"
   ]
  },
  {
   "attachments": {},
   "cell_type": "markdown",
   "metadata": {},
   "source": [
    "<h3>source clustering</h3>"
   ]
  },
  {
   "cell_type": "code",
   "execution_count": null,
   "metadata": {},
   "outputs": [],
   "source": [
    "kmvec = kmeans.fit_predict(Hl)\n",
    "unique, counts = np.unique(kmvec, return_counts=True)\n",
    "\n",
    "print(dict(zip(unique, counts)))\n",
    "\n",
    "bl= np.reshape(kmvec, (128, 3930)) #choose the correct matrix size"
   ]
  },
  {
   "attachments": {},
   "cell_type": "markdown",
   "metadata": {},
   "source": [
    "<h2>HEATMAP</h2>"
   ]
  },
  {
   "attachments": {},
   "cell_type": "markdown",
   "metadata": {},
   "source": [
    "<h3>aligning the axies of source and electrode positions</h3>"
   ]
  },
  {
   "cell_type": "code",
   "execution_count": 188,
   "metadata": {},
   "outputs": [],
   "source": [
    "#axies#\n",
    "Z = 2\n",
    "Y = 1\n",
    "X = 0\n",
    "\n",
    "macierz_s = bl.T\n",
    "ref = poz_ins\n",
    "\n",
    "#sort Z#\n",
    "Zs = macierz_s[ref[:, Z].argsort()]\n",
    "pozins_Zs = ref[ref[:, Z].argsort()]\n",
    "\n",
    "#sort Y for each Z#\n",
    "Zfragments_p =[]\n",
    "Zfragments =[]\n",
    "l1=[]\n",
    "\n",
    "[l1.append(i) for i in ref[:,Z] if i not in l1]\n",
    "\n",
    "for j in l1:\n",
    "    matrr_f = np.array([list(i) for i,r in zip(macierz_s,ref) if r[Z]==j])\n",
    "    fragment1 = np.array([list(i) for i in ref if i[Z]==j])\n",
    "    Ys = matrr_f[fragment1[:,Y].argsort()]\n",
    "    pozins_Ys = fragment1[fragment1[:,Y].argsort()]\n",
    "    Zfragments.append(Ys)\n",
    "    Zfragments_p.append(pozins_Ys)\n",
    "\n",
    "#sort X for each Y#\n",
    "ZYfragments=[]\n",
    "ZYfragments_p=[]\n",
    "\n",
    "for j,c in zip(Zfragments_p, Zfragments):\n",
    "    Yfragments_p=[]\n",
    "    Yfragments=[]\n",
    "    l1=[]\n",
    "    [l1.append(i) for i in j[:,Y] if i not in l1]\n",
    "\n",
    "    for g in l1:\n",
    "        matrr_f = np.array([list(i) for i,r in zip(c,j) if r[Y]==g])\n",
    "        fragment1 = np.array([list(i) for i in j if i[Y]==g])\n",
    "        Xs = matrr_f[fragment1[:,X].argsort()]\n",
    "        pozins_Xs = fragment1[fragment1[:,X].argsort()]\n",
    "        Yfragments_p.append(pozins_Xs)\n",
    "        Yfragments.append(Xs)\n",
    "\n",
    "    ZYfragments_p.append(Yfragments_p)\n",
    "    ZYfragments.append(Yfragments)\n",
    "\n",
    "matr = np.array([macierz_s[0]])\n",
    "\n",
    "for i in ZYfragments:\n",
    "    for j in i:\n",
    "        matr = np.concatenate((matr, j), axis=0)\n",
    "        \n",
    "out = np.reshape(np.delete(matr, 0 ,0), np.shape(bl.T))"
   ]
  },
  {
   "attachments": {},
   "cell_type": "markdown",
   "metadata": {},
   "source": [
    "<h3>temp holds values of a single cluster</h3>"
   ]
  },
  {
   "cell_type": "code",
   "execution_count": 83,
   "metadata": {},
   "outputs": [],
   "source": [
    "klaster = 0 #cluster nr\n",
    "nx = 3930\n",
    "mx = 3930\n",
    "temp = np.zeros((nx,mx))\n",
    "\n",
    "for i in range(nx):\n",
    "    for j in range(mx):\n",
    "        if bl[i][j] == klaster: #bl (raw) or out.T (aligned axies)\n",
    "            temp[i][j] = 1"
   ]
  },
  {
   "attachments": {},
   "cell_type": "markdown",
   "metadata": {},
   "source": [
    "<h3>get heatmap</h3>"
   ]
  },
  {
   "cell_type": "code",
   "execution_count": null,
   "metadata": {},
   "outputs": [],
   "source": [
    "Z_align_axis = bl#[elecpos[:, 2].argsort()] #only for 128xM matrix, ssort along chosen axie\n",
    "                #bl or out.T\n",
    "\n",
    "myColors = ((0.0, 0.0, 0.0, 1.0), (0.0, 0.0, 0.7, 1.0), (0.7, 0.0, 0.0, 1.0), (0.9, 0.9, 0.9, 1.0))\n",
    "cmap = LinearSegmentedColormap.from_list('Custom', myColors, len(myColors))\n",
    "\n",
    "ax = sns.heatmap(Z_align_axis, cmap=cmap,  cbar_kws={'label': 'numer klastra'})# cbar=False)\n",
    "ax.set(xlabel='numer żródła', ylabel='numer cechy')\n",
    "\n",
    "colorbar = ax.collections[0].colorbar\n",
    "colorbar.set_ticks([0.36, 1.133, 1.86, 2.63])\n",
    "colorbar.set_ticklabels(['1', '2', '3', '4'])\n",
    "\n",
    "#plt.savefig(\"./zdjecia/Z1.png\", format=\"png\", dpi=600, bbox_inches=\"tight\")\n",
    "plt.show()"
   ]
  },
  {
   "attachments": {},
   "cell_type": "markdown",
   "metadata": {},
   "source": [
    "<h3>get heatmap for a single cluster</h3>"
   ]
  },
  {
   "cell_type": "code",
   "execution_count": null,
   "metadata": {},
   "outputs": [],
   "source": [
    "Z_align_axis = temp#[elecpos[:, 2].argsort()] #only for 128xM matrix\n",
    "\n",
    "ax = sns.heatmap(temp, cbar=False)\n",
    "ax.set(xlabel='numer żródła', ylabel='numer cechy')\n",
    "\n",
    "#plt.savefig(\"./zdjecia/Z1Z2Z3.png\", format=\"png\", dpi=600, bbox_inches=\"tight\")\n",
    "plt.show()"
   ]
  }
 ],
 "metadata": {
  "kernelspec": {
   "display_name": "base",
   "language": "python",
   "name": "python3"
  },
  "language_info": {
   "codemirror_mode": {
    "name": "ipython",
    "version": 3
   },
   "file_extension": ".py",
   "mimetype": "text/x-python",
   "name": "python",
   "nbconvert_exporter": "python",
   "pygments_lexer": "ipython3",
   "version": "3.8.12"
  },
  "orig_nbformat": 4,
  "vscode": {
   "interpreter": {
    "hash": "2bbf32acc3c74171465540c420180a6bcda3a3d20e1dbd6ecea3c277985e6e98"
   }
  }
 },
 "nbformat": 4,
 "nbformat_minor": 2
}
